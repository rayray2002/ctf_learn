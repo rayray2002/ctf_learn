{
 "cells": [
  {
   "cell_type": "code",
   "execution_count": 169,
   "metadata": {},
   "outputs": [],
   "source": [
    "# !pip install pwntools\n",
    "from pwn import *"
   ]
  },
  {
   "cell_type": "code",
   "execution_count": 170,
   "metadata": {},
   "outputs": [
    {
     "name": "stdout",
     "output_type": "stream",
     "text": [
      "[x] Opening connection to edu-ctf.csie.org on port 42069\n",
      "[x] Opening connection to edu-ctf.csie.org on port 42069: Trying 140.112.31.97\n",
      "[+] Opening connection to edu-ctf.csie.org on port 42069: Done\n",
      "0.5599999999999995\n",
      "[1, 1, 1, 0, 0, 1, 0, 0, 0, 1, 1, 1, 1, 0, 0, 0, 0, 0, 1, 0, 1, 0, 0, 1, 0, 1, 1, 1, 1, 0, 1, 0, 1, 1, 0, 1, 0, 1, 1, 0, 0, 0, 1, 1, 1, 0, 1, 1, 0, 1, 1, 1, 1, 0, 0, 1, 0, 0, 0, 1, 0, 0, 0, 0]\n"
     ]
    }
   ],
   "source": [
    "r = remote(\"edu-ctf.csie.org\", 42069)\n",
    "\n",
    "money = 1.2\n",
    "seq = []\n",
    "for i in range(64):\n",
    "    r.sendlineafter(b\"> \", b\"0\")\n",
    "    money_new = float(r.recvline().strip())\n",
    "    if money_new > money:\n",
    "        seq.append(0)\n",
    "        # print(0, money_new)\n",
    "    else:\n",
    "        seq.append(1)\n",
    "        # print(1, money_new)\n",
    "    money = money_new\n",
    "print(money)\n",
    "print(seq)\n",
    "\n"
   ]
  },
  {
   "cell_type": "code",
   "execution_count": 171,
   "metadata": {},
   "outputs": [
    {
     "name": "stdout",
     "output_type": "stream",
     "text": [
      "x^64 + x^63 + x^62 + x^61 + x^60 + x^59 + x^58 + x^56 + x^50 + x^49 + x^48 + x^47 + x^46 + x^44 + x^43 + x^38 + x^37 + x^36 + x^35 + x^34 + x^33 + x^31 + x^30 + x^29 + x^26 + x^25 + x^22 + x^20 + x^19 + x^18 + x^15 + x^13 + x^12 + x^6 + x^4 + x^2 + 1\n"
     ]
    }
   ],
   "source": [
    "F.<x> = PolynomialRing(GF(2))\n",
    "poly = 0xaa0d3a677e1be0bf\n",
    "P = x^64\n",
    "for i in range(64):\n",
    "    lsb = poly & 1\n",
    "    poly >>= 1\n",
    "    if lsb:\n",
    "        P += x^(63-i)\n",
    "print(P)\n",
    "    "
   ]
  },
  {
   "cell_type": "code",
   "execution_count": 172,
   "metadata": {},
   "outputs": [],
   "source": [
    "C = companion_matrix(P, \"left\")\n",
    "# print(C.str())\n",
    "# C"
   ]
  },
  {
   "cell_type": "code",
   "execution_count": 173,
   "metadata": {},
   "outputs": [],
   "source": [
    "C43 = matrix(GF(2), 64)\n",
    "A = C^43\n",
    "for i in range(64):\n",
    "    C43[i] = (A^(i+1))[0]\n",
    "# print(C43)"
   ]
  },
  {
   "cell_type": "code",
   "execution_count": 174,
   "metadata": {},
   "outputs": [
    {
     "name": "stdout",
     "output_type": "stream",
     "text": [
      "(1, 1, 0, 1, 0, 1, 0, 0, 1, 1, 1, 0, 0, 1, 1, 0, 1, 0, 1, 0, 1, 0, 0, 0, 0, 1, 0, 1, 0, 0, 0, 1, 0, 1, 0, 1, 1, 0, 0, 1, 1, 0, 1, 0, 1, 0, 1, 0, 1, 0, 0, 0, 1, 0, 0, 1, 0, 0, 1, 1, 0, 1, 0, 0)\n"
     ]
    }
   ],
   "source": [
    "# C43*state = seq\n",
    "seq = vector(GF(2), seq)\n",
    "state0 = C43^-1 * seq\n",
    "print(state0)"
   ]
  },
  {
   "cell_type": "code",
   "execution_count": 175,
   "metadata": {},
   "outputs": [],
   "source": [
    "state = state0\n",
    "for i in range(64):\n",
    "    state = A*state\n",
    "    out = state[0]\n",
    "    assert(out == seq[i])"
   ]
  },
  {
   "cell_type": "code",
   "execution_count": 176,
   "metadata": {},
   "outputs": [
    {
     "name": "stdout",
     "output_type": "stream",
     "text": [
      "2.400000000000001\n",
      "FLAG{2iroO742LwA2ES1Cwewx}\n",
      "\n"
     ]
    },
    {
     "name": "stderr",
     "output_type": "stream",
     "text": [
      "/tmp/ipykernel_739/522143056.py:6: BytesWarning: Text is not bytes; assuming ASCII, no guarantees. See https://docs.pwntools.com/#bytes\n",
      "  r.sendlineafter(b\"> \", str(out))\n"
     ]
    }
   ],
   "source": [
    "while(money <= 2.4):\n",
    "    state = A*state\n",
    "    out = state[0]\n",
    "    # print(out)\n",
    "\n",
    "    r.sendlineafter(b\"> \", str(out))\n",
    "    money_new = float(r.recvline().strip())\n",
    "    assert money_new > money\n",
    "\n",
    "    money = money_new\n",
    "print(money)\n",
    "r.recvline()\n",
    "print(r.recvlineS())"
   ]
  },
  {
   "cell_type": "code",
   "execution_count": null,
   "metadata": {},
   "outputs": [],
   "source": []
  }
 ],
 "metadata": {
  "kernelspec": {
   "display_name": "SageMath 9.5",
   "language": "sage",
   "name": "sagemath"
  },
  "language_info": {
   "codemirror_mode": {
    "name": "ipython",
    "version": 3
   },
   "file_extension": ".py",
   "mimetype": "text/x-python",
   "name": "python",
   "nbconvert_exporter": "python",
   "pygments_lexer": "ipython3",
   "version": "3.9.9"
  },
  "orig_nbformat": 4
 },
 "nbformat": 4,
 "nbformat_minor": 2
}
