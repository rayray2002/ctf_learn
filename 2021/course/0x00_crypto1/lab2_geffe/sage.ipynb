{
 "cells": [
  {
   "cell_type": "code",
   "execution_count": 10,
   "metadata": {
    "vscode": {
     "languageId": "python"
    }
   },
   "outputs": [],
   "source": [
    "class LFSR:\n",
    "    def __init__(self, key, taps):\n",
    "        d = max(taps)\n",
    "        assert len(key) == d, \"Error: key of wrong size.\"\n",
    "        self._s = key\n",
    "        self._t = [d - t for t in taps]\n",
    "\n",
    "    def _sum(self, L):\n",
    "        s = 0\n",
    "        for x in L:\n",
    "            s = s ^^ x\n",
    "        return s\n",
    "\n",
    "    def _clock(self):\n",
    "        b = self._s[0]\n",
    "        self._s = self._s[1:] + [self._sum(self._s[p] for p in self._t)]\n",
    "        return b\n",
    "\n",
    "    def getbit(self):\n",
    "        return self._clock()"
   ]
  },
  {
   "cell_type": "code",
   "execution_count": 32,
   "metadata": {
    "vscode": {
     "languageId": "python"
    }
   },
   "outputs": [
    {
     "name": "stdout",
     "output_type": "stream",
     "text": [
      "1 1 1 0 0 1 0 1 1 1 0 0 1 0 1 1 1 0 0 1 \n",
      "0 1 1 "
     ]
    }
   ],
   "source": [
    "key = [1, 1, 1]\n",
    "taps = [2, 3]\n",
    "lfsr = LFSR(key, taps)\n",
    "for i in range(20):\n",
    "    print(lfsr.getbit(), end=\" \")\n",
    "print(\"\")\n",
    "for i in range(3):\n",
    "    print(lfsr.getbit(), end=\" \")"
   ]
  },
  {
   "cell_type": "code",
   "execution_count": 33,
   "metadata": {
    "vscode": {
     "languageId": "python"
    }
   },
   "outputs": [
    {
     "data": {
      "text/plain": [
       "[0 1 0]\n",
       "[0 0 1]\n",
       "[1 1 0]"
      ]
     },
     "execution_count": 33,
     "metadata": {},
     "output_type": "execute_result"
    }
   ],
   "source": [
    "P.<x> = PolynomialRing(GF(2))\n",
    "P = x^3 + x + 1\n",
    "C = companion_matrix(P, format='bottom')\n",
    "C"
   ]
  },
  {
   "cell_type": "code",
   "execution_count": 34,
   "metadata": {
    "vscode": {
     "languageId": "python"
    }
   },
   "outputs": [
    {
     "data": {
      "text/plain": [
       "(0, 1, 1)"
      ]
     },
     "execution_count": 34,
     "metadata": {},
     "output_type": "execute_result"
    }
   ],
   "source": [
    "b = vector(key)\n",
    "x = C^20 * b\n",
    "x"
   ]
  },
  {
   "cell_type": "code",
   "execution_count": null,
   "metadata": {
    "vscode": {
     "languageId": "python"
    }
   },
   "outputs": [],
   "source": []
  }
 ],
 "metadata": {
  "kernelspec": {
   "display_name": "SageMath 9.5",
   "language": "sage",
   "name": "sagemath"
  },
  "language_info": {
   "codemirror_mode": {
    "name": "ipython",
    "version": 3
   },
   "file_extension": ".py",
   "mimetype": "text/x-python",
   "name": "sage",
   "nbconvert_exporter": "python",
   "pygments_lexer": "ipython3",
   "version": "3.9.9"
  },
  "orig_nbformat": 4,
  "vscode": {
   "interpreter": {
    "hash": "469cc3aa7134c171ec0f7b54665b133bfbb802da7369df0fbea50b53a7889918"
   }
  }
 },
 "nbformat": 4,
 "nbformat_minor": 2
}
